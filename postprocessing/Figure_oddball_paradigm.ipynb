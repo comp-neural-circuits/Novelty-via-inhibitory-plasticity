{
 "cells": [
  {
   "cell_type": "code",
   "execution_count": 1,
   "metadata": {},
   "outputs": [],
   "source": [
    "##############################################################################\n",
    "#\n",
    "# This code is part of the publication:\n",
    "# https://www.biorxiv.org/content/10.1101/2020.11.30.403840v1\n",
    "#\n",
    "# The generation of cortical novelty responses through inhibitory plasticity\n",
    "# Auguste Schulz*, Christoph Miehl*, Michael J. Berry II, Julijana Gjorgjieva\n",
    "#\n",
    "# * equal contribution\n",
    "#\n",
    "##############################################################################"
   ]
  },
  {
   "cell_type": "markdown",
   "metadata": {},
   "source": [
    "# Figure oddball paradigm\n",
    "\n",
    "specify the filename below to check if the simulation was successful\n",
    "\n",
    "run the following command from 'main' and then copy the corresponding file name \n",
    "\n",
    "> nohup julia initsim_oddball_disinhib_ARGS.jl 20 1 300 900 200 0 10 150 &> ../tmp/SSA_disinhibtest_150_normal_ssa_300.txt &\n"
   ]
  },
  {
   "cell_type": "code",
   "execution_count": 2,
   "metadata": {},
   "outputs": [],
   "source": [
    "from IPython.display import HTML, IFrame, Image\n",
    "\n",
    "import numpy as np\n",
    "import matplotlib\n",
    "import matplotlib.pyplot as plt\n",
    "import pandas as pd\n",
    "import os, fnmatch\n",
    "import time\n",
    "import h5py\n",
    "from scipy.signal import find_peaks, peak_prominences\n",
    "from scipy import stats\n",
    "from scipy import optimize\n",
    "from scipy.signal import decimate\n",
    "from scipy import signal\n",
    "import gc\n",
    "import time\n",
    "\n",
    "%matplotlib inline\n",
    "\n",
    "\n",
    "from matplotlib import rcParams, cm\n",
    "rcParams['grid.linewidth'] = 0\n",
    "rcParams['pdf.fonttype'] = 42\n",
    "# import custom functions\n",
    "from helper_functions import *\n",
    "import helper_functions\n",
    "\n",
    "#reload(helper_functions)\n",
    "from helper_functions import *\n",
    "\n",
    "from evaluation_functions import *\n",
    "import evaluation_functions\n",
    "\n",
    "#reload(evaluation_functions)\n",
    "from evaluation_functions import *"
   ]
  },
  {
   "cell_type": "code",
   "execution_count": 4,
   "metadata": {},
   "outputs": [
    {
     "data": {
      "text/plain": [
       "(7.874015748031496, 3.937007874015748)"
      ]
     },
     "execution_count": 4,
     "metadata": {},
     "output_type": "execute_result"
    }
   ],
   "source": [
    "def cm2inch(*tupl):\n",
    "    inch = 2.54\n",
    "    if isinstance(tupl[0], tuple):\n",
    "        return tuple(i/inch for i in tupl[0])\n",
    "    else:\n",
    "        return tuple(i/inch for i in tupl)\n",
    "def count(list1, l, r): \n",
    "    c = 0\n",
    "    # traverse in the list1 \n",
    "    for x in list1: \n",
    "        # condition check \n",
    "        if x>= l and x<= r: \n",
    "            c+= 1\n",
    "    return c \n",
    "\n",
    "def get_time_idx(time, onsets):\n",
    "    idx = []\n",
    "    for tt in onsets:\n",
    "        #print(tt)\n",
    "        #print(min(min(np.where(tt<=time))))\n",
    "        idx.append(min(min(np.where(time>=tt))))\n",
    "        \n",
    "    return idx\n",
    "\n",
    "figsize_cm = (20,10)\n",
    "figsize_inch = cm2inch(figsize_cm)\n",
    "figsize_inch"
   ]
  },
  {
   "cell_type": "code",
   "execution_count": 13,
   "metadata": {},
   "outputs": [],
   "source": [
    "file_names = [\n",
    "    # disinhibition modelled\n",
    "    #\"Oddball_200_disinhib_true_SUB_1.5_inhibtunning_0.1_ifAAnotAB_false__dur28000.0msNblocks1Ntrain0lenstim300lenpause900Nreps20strength12wadaptfalseiSTDPtrueRateAdjust1Time2020-12-16-17-38-28repeatedsequences.h5\",\n",
    "    # no disinhibition\n",
    "    \"Oddball_200_disinhib_true_SUB_0.0_inhibtunning_0.1_ifAAnotAB_false__dur28000.0msNblocks1Ntrain0lenstim300lenpause900Nreps20strength12wadaptfalseiSTDPtrueRateAdjust1Time2020-12-16-17-38-12repeatedsequences.h5\"\n",
    "]"
   ]
  },
  {
   "cell_type": "code",
   "execution_count": 14,
   "metadata": {},
   "outputs": [
    {
     "name": "stdout",
     "output_type": "stream",
     "text": [
      "[1.00e+00 2.68e+04 2.71e+04 1.20e+01]\n",
      "4300.0\n",
      "<KeysViewHDF5 ['assemblymembers', 'idxblockonset', 'inhibassemblies', 'lengthpretrain', 'seqnumber', 'stimparams', 'stimparams_prestim', 'stimulus']>\n"
     ]
    },
    {
     "name": "stderr",
     "output_type": "stream",
     "text": [
      "/home/auguste/Software/anaconda3/lib/python3.7/site-packages/h5py/_hl/dataset.py:313: H5pyDeprecationWarning: dataset.value has been deprecated. Use dataset[()] instead.\n",
      "  \"Use dataset[()] instead.\", H5pyDeprecationWarning)\n"
     ]
    }
   ],
   "source": [
    "E_all  = []\n",
    "E_all_nov  = []\n",
    "\n",
    "I_all = []\n",
    "ed_all = []\n",
    "FIG_DIR_ALL = []\n",
    "Xweight_all = []\n",
    "Xweightinhib_all = []\n",
    "\n",
    "ItoAweight_all = []\n",
    "timevector_all = []\n",
    "avgweightEmem_all = []\n",
    "avgweightImem_all = []\n",
    "avgweightEnov_all = []\n",
    "avgweightImem_all = []\n",
    "avgwindow = 8\n",
    "timestr = time.strftime(\"%Y-%m-%d-%H-%M-%S\")\n",
    "\n",
    "RUN_DIR = \"../data/\"\n",
    "RESULTS_DIR = \"../results/\"\n",
    "\n",
    "FILE_NAME_RUN = [RUN_DIR + file_name for file_name in file_names]\n",
    "#file_name_run = run_folder + file_name\n",
    "# open file\n",
    "frun = h5py.File(FILE_NAME_RUN[0], \"r\")\n",
    "\n",
    "FILE_NAME_RUN[-1]\n",
    "dict_dursimspikes_last  = frun[\"dursimspikes\"]\n",
    "dict_dursimspikes_keys = dict_dursimspikes_last.keys()\n",
    "dict_dursimspikes_keys;\n",
    "adjustfact  = frun[\"params\"]['adjustfactorinhib2'].value\n",
    "stimulus  = frun[\"initial\"]['stimulus'].value\n",
    "ptretrain  = frun[\"initial\"]['lengthpretrain'].value\n",
    "\n",
    "print(stimulus[:,-1])\n",
    "print(stimulus[2,ptretrain])\n",
    "dict_dursimspikes_last= frun[\"dursimspikes\"].keys()\n",
    "dict_dursimspikes_last;\n",
    "print(frun[\"initial\"].keys())"
   ]
  },
  {
   "cell_type": "code",
   "execution_count": 15,
   "metadata": {
    "scrolled": true
   },
   "outputs": [
    {
     "name": "stdout",
     "output_type": "stream",
     "text": [
      "Oddball_200_disinhib_true_SUB_0.0_inhibtunning_0.1_ifAAnotAB_false__dur28000.0msNblocks1Ntrain0lenstim300lenpause900Nreps20strength12wadaptfalseiSTDPtrueRateAdjust1Time2020-12-16-17-38-12repeatedsequences.h5\n",
      "NON ADAPTIVE\n"
     ]
    }
   ],
   "source": [
    "for i,fn in enumerate(file_names):\n",
    "    print(fn)\n",
    "    \n",
    "    E,I, ed, E_hist, E_hist_boxcar, FIG_DIR, E_nov = analyse_filename(fn, avgwindow=avgwindow, timestr=timestr, RUN_DIR = RUN_DIR, RESULTS_DIR=RESULTS_DIR)\n",
    "\n",
    "spiketimes = 0\n",
    "gc.collect()\n",
    "\n",
    "Nseq = 1"
   ]
  },
  {
   "cell_type": "code",
   "execution_count": 16,
   "metadata": {},
   "outputs": [
    {
     "data": {
      "text/plain": [
       "Text(0.5, 0, 'time locked to onset [s]')"
      ]
     },
     "execution_count": 16,
     "metadata": {},
     "output_type": "execute_result"
    },
    {
     "data": {
      "image/png": "[encoded data removed]",
      "text/plain": [
       "<Figure size 432x288 with 1 Axes>"
      ]
     },
     "metadata": {
      "needs_background": "light"
     },
     "output_type": "display_data"
    }
   ],
   "source": [
    "plt.figure(constrained_layout=True)\n",
    "plt.plot(ed[:-1], E[0][:-1], color = 'midnightblue')\n",
    "plt.ylabel(\"population\\naverage [Hz]\")\n",
    "plt.xlabel(\"time locked to onset [s]\")"
   ]
  },
  {
   "cell_type": "code",
   "execution_count": 30,
   "metadata": {},
   "outputs": [
    {
     "data": {
      "text/plain": [
       "Text(0.5, 0, 'stimulus step')"
      ]
     },
     "execution_count": 30,
     "metadata": {},
     "output_type": "execute_result"
    },
    {
     "data": {
      "image/png": "[encoded data removed]",
      "text/plain": [
       "<Figure size 432x288 with 1 Axes>"
      ]
     },
     "metadata": {
      "needs_background": "light"
     },
     "output_type": "display_data"
    }
   ],
   "source": [
    "# oddball paradigm\n",
    "plt.plot(stimulus[0], \"*\", color=\"midnightblue\")\n",
    "plt.ylabel(\"stimulus ID\") # 1:A 2:B\n",
    "plt.xlabel(\"stimulus step\")"
   ]
  },
  {
   "cell_type": "markdown",
   "metadata": {},
   "source": [
    "### Demonstrating complete overlap of excitatory assemblies tuned to A and B"
   ]
  },
  {
   "cell_type": "code",
   "execution_count": 54,
   "metadata": {},
   "outputs": [
    {
     "name": "stderr",
     "output_type": "stream",
     "text": [
      "/home/auguste/Software/anaconda3/lib/python3.7/site-packages/h5py/_hl/dataset.py:313: H5pyDeprecationWarning: dataset.value has been deprecated. Use dataset[()] instead.\n",
      "  \"Use dataset[()] instead.\", H5pyDeprecationWarning)\n"
     ]
    },
    {
     "data": {
      "text/plain": [
       "Text(0.5, 0, 'index')"
      ]
     },
     "execution_count": 54,
     "metadata": {},
     "output_type": "execute_result"
    },
    {
     "data": {
      "image/png": "[encoded data removed]",
      "text/plain": [
       "<Figure size 432x288 with 1 Axes>"
      ]
     },
     "metadata": {
      "needs_background": "light"
     },
     "output_type": "display_data"
    }
   ],
   "source": [
    "assemblymembers  = frun[\"initial\"][\"assemblymembers\"].value\n",
    "plt.plot(assemblymembers[:200,0],'.')\n",
    "plt.plot(assemblymembers[:200,0],'.')\n",
    "plt.ylabel(\"neuron ID\")\n",
    "plt.xlabel(\"index\")"
   ]
  },
  {
   "cell_type": "markdown",
   "metadata": {},
   "source": [
    "### Demonstrating only partial overlap of inhibitory neuron groups tuned to A and B"
   ]
  },
  {
   "cell_type": "code",
   "execution_count": 53,
   "metadata": {},
   "outputs": [
    {
     "name": "stderr",
     "output_type": "stream",
     "text": [
      "/home/auguste/Software/anaconda3/lib/python3.7/site-packages/h5py/_hl/dataset.py:313: H5pyDeprecationWarning: dataset.value has been deprecated. Use dataset[()] instead.\n",
      "  \"Use dataset[()] instead.\", H5pyDeprecationWarning)\n"
     ]
    },
    {
     "data": {
      "text/plain": [
       "Text(0.5, 0, 'index')"
      ]
     },
     "execution_count": 53,
     "metadata": {},
     "output_type": "execute_result"
    },
    {
     "data": {
      "image/png": "[encoded data removed]",
      "text/plain": [
       "<Figure size 432x288 with 1 Axes>"
      ]
     },
     "metadata": {
      "needs_background": "light"
     },
     "output_type": "display_data"
    }
   ],
   "source": [
    "inhibassemblymembers  = frun[\"initial\"][\"inhibassemblies\"].value\n",
    "plt.plot(inhibassemblymembers[:150,0],'.')\n",
    "plt.plot(inhibassemblymembers[:150,1],'.')\n",
    "plt.ylabel(\"neuron ID\")\n",
    "plt.xlabel(\"index\")"
   ]
  },
  {
   "cell_type": "code",
   "execution_count": null,
   "metadata": {},
   "outputs": [],
   "source": []
  }
 ],
 "metadata": {
  "kernelspec": {
   "display_name": "Python 3",
   "language": "python",
   "name": "python3"
  },
  "language_info": {
   "codemirror_mode": {
    "name": "ipython",
    "version": 3
   },
   "file_extension": ".py",
   "mimetype": "text/x-python",
   "name": "python",
   "nbconvert_exporter": "python",
   "pygments_lexer": "ipython3",
   "version": "3.7.3"
  }
 },
 "nbformat": 4,
 "nbformat_minor": 4
}
