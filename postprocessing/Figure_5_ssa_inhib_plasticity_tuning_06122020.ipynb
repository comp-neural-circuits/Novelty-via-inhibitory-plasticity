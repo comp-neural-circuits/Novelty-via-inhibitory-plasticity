{
 "cells": [
  {
   "cell_type": "code",
   "execution_count": 7,
   "metadata": {},
   "outputs": [],
   "source": [
    "##############################################################################\n",
    "#\n",
    "# This code is part of the publication:\n",
    "# https://www.biorxiv.org/content/10.1101/2020.11.30.403840v1\n",
    "#\n",
    "# The generation of cortical novelty responses through inhibitory plasticity\n",
    "# Auguste Schulz*, Christoph Miehl*, Michael J. Berry II, Julijana Gjorgjieva\n",
    "#\n",
    "# * equal contribution\n",
    "#\n",
    "##############################################################################"
   ]
  },
  {
   "cell_type": "markdown",
   "metadata": {},
   "source": [
    "# Figure 5 SSA\n",
    "\n",
    "Author: Auguste Schulz  \n",
    "1. Schematic\n",
    "2. Population response disinhibition\n",
    "3. Denseness presentation\n",
    "4. Dininhibition strength"
   ]
  },
  {
   "cell_type": "code",
   "execution_count": 1,
   "metadata": {},
   "outputs": [],
   "source": [
    "from IPython.display import HTML, IFrame, Image\n",
    "\n",
    "import numpy as np\n",
    "import matplotlib\n",
    "import matplotlib.pyplot as plt\n",
    "import pandas as pd\n",
    "import os, fnmatch\n",
    "import time\n",
    "import h5py\n",
    "from scipy.signal import find_peaks, peak_prominences\n",
    "from scipy import stats\n",
    "from scipy import optimize\n",
    "from scipy.signal import decimate\n",
    "from scipy import signal\n",
    "import gc\n",
    "import time\n",
    "\n",
    "%matplotlib inline\n",
    "\n",
    "\n",
    "from matplotlib import rcParams, cm\n",
    "rcParams['grid.linewidth'] = 0\n",
    "rcParams['pdf.fonttype'] = 42\n",
    "# import custom functions\n",
    "from helper_functions import *\n",
    "import helper_functions\n",
    "\n",
    "#reload(helper_functions)\n",
    "from helper_functions import *\n",
    "\n",
    "from evaluation_functions import *\n",
    "import evaluation_functions\n",
    "\n",
    "#reload(evaluation_functions)\n",
    "from evaluation_functions import *"
   ]
  },
  {
   "cell_type": "code",
   "execution_count": 2,
   "metadata": {},
   "outputs": [
    {
     "data": {
      "text/plain": [
       "(7.874015748031496, 3.937007874015748)"
      ]
     },
     "execution_count": 2,
     "metadata": {},
     "output_type": "execute_result"
    }
   ],
   "source": [
    "def cm2inch(*tupl):\n",
    "    inch = 2.54\n",
    "    if isinstance(tupl[0], tuple):\n",
    "        return tuple(i/inch for i in tupl[0])\n",
    "    else:\n",
    "        return tuple(i/inch for i in tupl)\n",
    "def count(list1, l, r): \n",
    "    c = 0\n",
    "    # traverse in the list1 \n",
    "    for x in list1: \n",
    "        # condition check \n",
    "        if x>= l and x<= r: \n",
    "            c+= 1\n",
    "    return c \n",
    "\n",
    "def get_time_idx(time, onsets):\n",
    "    idx = []\n",
    "    for tt in onsets:\n",
    "        #print(tt)\n",
    "        #print(min(min(np.where(tt<=time))))\n",
    "        idx.append(min(min(np.where(time>=tt))))\n",
    "        \n",
    "    return idx\n",
    "\n",
    "figsize_cm = (20,10)\n",
    "figsize_inch = cm2inch(figsize_cm)\n",
    "figsize_inch"
   ]
  },
  {
   "cell_type": "code",
   "execution_count": 3,
   "metadata": {},
   "outputs": [],
   "source": [
    "# Final runs used in figure\n",
    "# No pretraining in STDP cases the adjust factor is 1 \n",
    "file_names = [\n",
    "    # adaptation but no iSTDP\n",
    "    \"SSA_200_inhibtunning_0.1_ifinhibhetero_false__dur28000.0msNblocks1Ntrain0lenstim300lenpause900Nreps20strength12wadapttrueiSTDPfalseRateAdjust0Time2020-03-04-11-55-39repeatedsequences.h5\",\n",
    "    # iSTDP no adaptation\n",
    "    \"SSA_200_inhibtunning_0.0_ifinhibhetero_false__dur28000.0msNblocks1Ntrain0lenstim300lenpause900Nreps20strength12wadaptfalseiSTDPtrueRateAdjust1Time2020-03-04-19-07-29repeatedsequences.h5\",\n",
    "    # disinhibition modelled with subtraction of 1.0 kHz \n",
    "    \"SSA_200_disinhib_true_SUB_1.0_inhibtunning_0.1_ifinhibhetero_false__dur28000.0msNblocks1Ntrain0lenstim300lenpause900Nreps20strength12wadaptfalseiSTDPtrueRateAdjust1Time2020-03-03-22-54-09repeatedsequences.h5\",\n",
    "    # inhibitory tuning case with 1.2 kHz added to inhibitory assemblies \n",
    "    \"SSA_200_inhibtunning_0.1_ifinhibhetero_false__dur28000.0msNblocks1Ntrain0lenstim300lenpause900Nreps20strength12wadaptfalseiSTDPtrueRateAdjust1Time2020-03-04-15-59-14repeatedsequences.h5\"\n",
    "]\n"
   ]
  },
  {
   "cell_type": "code",
   "execution_count": 4,
   "metadata": {},
   "outputs": [
    {
     "name": "stdout",
     "output_type": "stream",
     "text": [
      "[1.00e+00 2.68e+04 2.71e+04 1.20e+01]\n",
      "4300.0\n",
      "<KeysViewHDF5 ['assemblymembers', 'idxblockonset', 'inhibassemblies', 'lengthpretrain', 'seqnumber', 'stimparams', 'stimparams_prestim', 'stimulus', 'weights']>\n"
     ]
    },
    {
     "name": "stderr",
     "output_type": "stream",
     "text": [
      "/home/auguste/Software/anaconda3/lib/python3.7/site-packages/h5py/_hl/dataset.py:313: H5pyDeprecationWarning: dataset.value has been deprecated. Use dataset[()] instead.\n",
      "  \"Use dataset[()] instead.\", H5pyDeprecationWarning)\n"
     ]
    }
   ],
   "source": [
    "E_all  = []\n",
    "E_all_nov  = []\n",
    "\n",
    "I_all = []\n",
    "ed_all = []\n",
    "FIG_DIR_ALL = []\n",
    "Xweight_all = []\n",
    "Xweightinhib_all = []\n",
    "\n",
    "ItoAweight_all = []\n",
    "timevector_all = []\n",
    "avgweightEmem_all = []\n",
    "avgweightImem_all = []\n",
    "avgweightEnov_all = []\n",
    "avgweightImem_all = []\n",
    "avgwindow = 8\n",
    "timestr = time.strftime(\"%Y-%m-%d-%H-%M-%S\")\n",
    "\n",
    "\n",
    "RUN_DIR = \"../data/\"\n",
    "RESULTS_DIR = \"../results/\"\n",
    "\n",
    "FILE_NAME_RUN = [RUN_DIR + file_name for file_name in file_names]\n",
    "#file_name_run = run_folder + file_name\n",
    "# open file\n",
    "frun = h5py.File(FILE_NAME_RUN[0], \"r\")\n",
    "\n",
    "FILE_NAME_RUN[-1]\n",
    "dict_dursimspikes_last  = frun[\"dursimspikes\"]\n",
    "dict_dursimspikes_keys = dict_dursimspikes_last.keys()\n",
    "dict_dursimspikes_keys;\n",
    "adjustfact  = frun[\"params\"]['adjustfactorinhib2'].value\n",
    "stimulus  = frun[\"initial\"]['stimulus'].value\n",
    "ptretrain  = frun[\"initial\"]['lengthpretrain'].value\n",
    "\n",
    "print(stimulus[:,-1])\n",
    "print(stimulus[2,ptretrain])\n",
    "dict_dursimspikes_last= frun[\"dursimspikes\"].keys()\n",
    "dict_dursimspikes_last;\n",
    "print(frun[\"initial\"].keys())"
   ]
  },
  {
   "cell_type": "code",
   "execution_count": 5,
   "metadata": {
    "scrolled": true
   },
   "outputs": [
    {
     "name": "stdout",
     "output_type": "stream",
     "text": [
      "SSA_200_inhibtunning_0.1_ifinhibhetero_false__dur28000.0msNblocks1Ntrain0lenstim300lenpause900Nreps20strength12wadapttrueiSTDPfalseRateAdjust0Time2020-03-04-11-55-39repeatedsequences.h5\n",
      "ADAPT ON\n",
      "SSA_200_inhibtunning_0.0_ifinhibhetero_false__dur28000.0msNblocks1Ntrain0lenstim300lenpause900Nreps20strength12wadaptfalseiSTDPtrueRateAdjust1Time2020-03-04-19-07-29repeatedsequences.h5\n",
      "NON ADAPTIVE\n",
      "SSA_200_disinhib_true_SUB_1.0_inhibtunning_0.1_ifinhibhetero_false__dur28000.0msNblocks1Ntrain0lenstim300lenpause900Nreps20strength12wadaptfalseiSTDPtrueRateAdjust1Time2020-03-03-22-54-09repeatedsequences.h5\n",
      "NON ADAPTIVE\n",
      "SSA_200_inhibtunning_0.1_ifinhibhetero_false__dur28000.0msNblocks1Ntrain0lenstim300lenpause900Nreps20strength12wadaptfalseiSTDPtrueRateAdjust1Time2020-03-04-15-59-14repeatedsequences.h5\n",
      "NON ADAPTIVE\n"
     ]
    }
   ],
   "source": [
    "for i,fn in enumerate(file_names):\n",
    "    print(fn)\n",
    "    \n",
    "    E,I, ed, E_hist, E_hist_boxcar, FIG_DIR, E_nov = analyse_filename(fn, avgwindow=avgwindow, timestr=timestr, RUN_DIR = RUN_DIR, RESULTS_DIR=RESULTS_DIR)\n",
    "    #print(fn)\n",
    "    E_all.append(E)\n",
    "    I_all.append(I)\n",
    "    ed_all.append(ed)\n",
    "    E_all_nov.append(E_nov)\n",
    "    FIG_DIR_ALL.append(FIG_DIR)\n",
    "    if i==3:\n",
    "        Xweight, ItoAweight, timevector_weights, avgweightEmem, avgweightImem, avgweightEnov, avgweightImem, It1, It2, InhibXweight, seqnumber, stimulus, colormain, idxblockonset= analyse_weights(fn, True, figsize=(10,5), RUN_DIR = RUN_DIR, RESULTS_DIR=RESULTS_DIR)\n",
    "spiketimes = 0\n",
    "gc.collect()\n",
    "\n",
    "Nseq = 1"
   ]
  },
  {
   "cell_type": "code",
   "execution_count": 6,
   "metadata": {},
   "outputs": [
    {
     "name": "stderr",
     "output_type": "stream",
     "text": [
      "findfont: Font family ['normal'] not found. Falling back to DejaVu Sans.\n"
     ]
    },
    {
     "data": {
      "image/png": "[encoded data removed]",
      "text/plain": [
       "<Figure size 566.929x311.811 with 17 Axes>"
      ]
     },
     "metadata": {
      "needs_background": "light"
     },
     "output_type": "display_data"
    }
   ],
   "source": [
    "E_adapt = E_all[0][0]\n",
    "ed_adapt = ed_all[0]\n",
    "E_iSTDP = E_all[1][0]\n",
    "ed_iSTDP = ed_all[1]\n",
    "E_SSA = E_all[3][0]\n",
    "ed_SSA = ed_all[3]\n",
    "E_disin = E_all[2][0]\n",
    "ed_disin = ed_all[2]\n",
    "E_nov_SSA = E_all_nov[3][0][0]\n",
    "ed_nov_SSA = ed_all[3]\n",
    "font = {'family' : 'normal',\n",
    "        'weight' : 'normal',\n",
    "        'size'   : 12}\n",
    "\n",
    "matplotlib.rc('font', **font)\n",
    "\n",
    "SMALL_SIZE = 10\n",
    "MEDIUM_SIZE = 10\n",
    "BIGGER_SIZE = 10\n",
    "\n",
    "plt.rc('font', size=SMALL_SIZE)          # controls default text sizes\n",
    "plt.rc('axes', titlesize=SMALL_SIZE)     # fontsize of the axes title\n",
    "plt.rc('axes', labelsize=MEDIUM_SIZE)    # fontsize of the x and y labels\n",
    "plt.rc('xtick', labelsize=SMALL_SIZE)    # fontsize of the tick labels\n",
    "plt.rc('ytick', labelsize=SMALL_SIZE)    # fontsize of the tick labels\n",
    "plt.rc('legend', fontsize=SMALL_SIZE)    # legend fontsize\n",
    "plt.rc('figure', titlesize=BIGGER_SIZE)  # fontsize of the figure title\n",
    "\n",
    "\n",
    "axiswidth=1\n",
    "def cm2inch(*tupl):\n",
    "    inch = 2.54\n",
    "    if isinstance(tupl[0], tuple):\n",
    "        return tuple(i/inch for i in tupl[0])\n",
    "    else:\n",
    "        return tuple(i/inch for i in tupl)\n",
    "    \n",
    "figsize_cm = (20,11)\n",
    "figsize_inch = cm2inch(figsize_cm)\n",
    "figsize_inch\n",
    "fig2 = plt.figure(constrained_layout=True, figsize=figsize_inch)\n",
    "gs = fig2.add_gridspec(4,8, hspace=1.5, wspace = 1)\n",
    "\n",
    "\n",
    "f2_ax2 = fig2.add_subplot(gs[2,1:4]) \n",
    "\n",
    "f2_ax3 = fig2.add_subplot(gs[3,1:4], sharex=f2_ax2)\n",
    "\n",
    "f2_ax5 = fig2.add_subplot(gs[0,5:])\n",
    "\n",
    "f2_ax6 = fig2.add_subplot(gs[1,5:], sharex=f2_ax5)\n",
    "\n",
    "f2_ax7 = fig2.add_subplot(gs[2:,5:], sharex=f2_ax5)\n",
    "\n",
    "\n",
    "\n",
    "plt.setp(f2_ax2.get_xticklabels(), visible=False)\n",
    "plt.setp(f2_ax5.get_xticklabels(), visible=False)\n",
    "plt.setp(f2_ax6.get_xticklabels(), visible=False)\n",
    "\n",
    "for aa, ax in enumerate([f2_ax2,f2_ax3,f2_ax5,f2_ax6, f2_ax7]):\n",
    "    for axis in ['bottom', 'left']:\n",
    "            ax.spines[axis].set_linewidth(axiswidth)\n",
    "    for axis in ['top', 'right']:\n",
    "        ax.spines[axis].set_linewidth(0)\n",
    "    ax.xaxis.set_tick_params(width=axiswidth)\n",
    "    ax.yaxis.set_tick_params(width=axiswidth)\n",
    "    ax.locator_params(tight=True, nbins=4)\n",
    "\n",
    "color = [\"midnightblue\",\"lightskyblue\",\"royalblue\",\"darkred\",\"darksalmon\", \"saddlebrown\",\"darkgreen\",\"greenyellow\",\"darkolivegreen\",\"darkmagenta\",\"thistle\",\"indigo\",\"darkorange\",\"tan\",\"sienna\", \"black\", \"silver\",\"dimgrey\", \"fuchsia\", \"orchid\",\"plum\",  \"lightseagreen\", \"lightcyan\", \"darkslategray\",  \"goldenrod\",\"gold\", \"wheat\",\"forestgreen\", \"aquamarine\", \"palegreen\"]\n",
    "\n",
    "cutoff = 1\n",
    "\n",
    "# # ================================================ standard =================================================\n",
    "# for i, trace in enumerate(reversed(E_std)):\n",
    "#     #print(i)\n",
    "f2_ax5.plot(ed_SSA[:-cutoff], E_SSA[:-cutoff], color = 'midnightblue', label='std')#f2_ax2.plot(ed_SSA[:-cutoff], E_SSA[:-cutoff], '--',color = 'darkgreen')\n",
    "\n",
    "#f2_ax5.legend(frameon=False)\n",
    "f2_ax5.set(ylabel =\"population\\naverage [Hz]\")\n",
    "\n",
    "f2_ax3.plot(ed_iSTDP[:-cutoff], E_iSTDP[:-cutoff], color = 'midnightblue', label='no inhib tuning')\n",
    "#f2_ax3.legend(frameon=False)\n",
    "f2_ax3.set(ylabel =\"population\\naverage [Hz]\", xlabel = \"time locked to onset [s]\")\n",
    "\n",
    "f2_ax2.plot(ed_adapt[:-cutoff], E_adapt[:-cutoff], color = 'midnightblue', label='adaptive')\n",
    "#f2_ax2.legend(frameon=False)\n",
    "f2_ax2.set(ylabel =\"population\\naverage [Hz]\")\n",
    "\n",
    "f2_ax6.plot(ed_SSA[:-cutoff], E_nov_SSA[:-cutoff], color = 'midnightblue', label='stimulated neurons')\n",
    "#f2_ax5.plot(ed_SSA[:-cutoff], E_nov_SSA[:-cutoff], ':',color = 'darkgreen')#, label='stimulated neurons')\n",
    "\n",
    "#f2_ax6.legend(frameon=False)\n",
    "f2_ax6.set(ylabel =\"assembly\\naverage [Hz]\")\n",
    "\n",
    "onset_times = stimulus[1,idxblockonset-1]\n",
    "timevector = timevector_weights*60\n",
    "idx_1 = get_time_idx(timevector, onset_times/1000)\n",
    "\n",
    "f2_ax7.plot(timevector[idx_1[0]:]-timevector[idx_1[0]],InhibXweight[0,0,idx_1[0]:], color='midnightblue', label = 'inhib. A to exc. A/B')\n",
    "f2_ax7.plot(timevector[idx_1[0]:]-timevector[idx_1[0]],InhibXweight[1,1,idx_1[0]:], color='darkgreen', label = 'inhib. B to exc. A/B')\n",
    "f2_ax7.plot(timevector[idx_1[0]:]-timevector[idx_1[0]],ItoAweight[0,idx_1[0]:], '--', color='midnightblue', label = 'inhib. total to exc. A/B')\n",
    "f2_ax7.legend(frameon=False)\n",
    "f2_ax7.set(ylabel =\"inhib. assembly\\nweights [pF]\", xlabel = \"time locked to onset [s]\")\n",
    "f2_ax7.set(ylim=[55, 210])\n",
    "\n",
    "save_fig(\"./figures/\",\"Figure_5_SSA_300ms_900ms\")"
   ]
  },
  {
   "cell_type": "code",
   "execution_count": null,
   "metadata": {},
   "outputs": [],
   "source": []
  }
 ],
 "metadata": {
  "kernelspec": {
   "display_name": "Python 3",
   "language": "python",
   "name": "python3"
  },
  "language_info": {
   "codemirror_mode": {
    "name": "ipython",
    "version": 3
   },
   "file_extension": ".py",
   "mimetype": "text/x-python",
   "name": "python",
   "nbconvert_exporter": "python",
   "pygments_lexer": "ipython3",
   "version": "3.7.3"
  }
 },
 "nbformat": 4,
 "nbformat_minor": 4
}
