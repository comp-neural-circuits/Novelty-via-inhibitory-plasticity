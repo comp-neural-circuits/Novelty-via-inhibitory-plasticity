{
 "cells": [
  {
   "cell_type": "code",
   "execution_count": 9,
   "metadata": {},
   "outputs": [],
   "source": [
    "##############################################################################\n",
    "#\n",
    "# This code is part of the publication:\n",
    "# https://www.biorxiv.org/content/10.1101/2020.11.30.403840v1\n",
    "#\n",
    "# The generation of cortical novelty responses through inhibitory plasticity\n",
    "# Auguste Schulz*, Christoph Miehl*, Michael J. Berry II, Julijana Gjorgjieva\n",
    "#\n",
    "# * equal contribution\n",
    "#\n",
    "##############################################################################"
   ]
  },
  {
   "cell_type": "markdown",
   "metadata": {},
   "source": [
    "# Figure 4\n",
    "\n",
    "Author: Auguste Schulz  \n",
    "1. Weight evolution\n",
    "2. Weight matrices"
   ]
  },
  {
   "cell_type": "code",
   "execution_count": 1,
   "metadata": {},
   "outputs": [],
   "source": [
    "from IPython.display import HTML, IFrame, Image\n",
    "\n",
    "import numpy as np\n",
    "import matplotlib\n",
    "import matplotlib.pyplot as plt\n",
    "import pandas as pd\n",
    "import os, fnmatch\n",
    "import time\n",
    "import h5py\n",
    "from scipy.signal import find_peaks, peak_prominences\n",
    "from scipy import stats\n",
    "from scipy import optimize\n",
    "from scipy.signal import decimate\n",
    "from scipy import signal\n",
    "import gc\n",
    "import time\n",
    "\n",
    "%matplotlib inline\n",
    "\n",
    "\n",
    "from matplotlib import rcParams, cm\n",
    "rcParams['grid.linewidth'] = 0\n",
    "rcParams['pdf.fonttype'] = 42\n",
    "# import custom functions\n",
    "from helper_functions import *\n",
    "import helper_functions\n",
    "\n",
    "from helper_functions import *\n",
    "\n",
    "from evaluation_functions import *\n",
    "import evaluation_functions\n",
    "\n",
    "from evaluation_functions import *"
   ]
  },
  {
   "cell_type": "code",
   "execution_count": 2,
   "metadata": {},
   "outputs": [
    {
     "data": {
      "text/plain": [
       "(7.874015748031496, 3.937007874015748)"
      ]
     },
     "execution_count": 2,
     "metadata": {},
     "output_type": "execute_result"
    }
   ],
   "source": [
    "def cm2inch(*tupl):\n",
    "    inch = 2.54\n",
    "    if isinstance(tupl[0], tuple):\n",
    "        return tuple(i/inch for i in tupl[0])\n",
    "    else:\n",
    "        return tuple(i/inch for i in tupl)\n",
    "\n",
    "def get_time_idx(time, onsets):\n",
    "    idx = []\n",
    "    for tt in onsets:\n",
    "        #print(tt)\n",
    "        #print(min(min(np.where(tt<=time))))\n",
    "        idx.append(min(min(np.where(time>=tt))))\n",
    "        \n",
    "    return idx\n",
    "\n",
    "figsize_cm = (20,10)\n",
    "figsize_inch = cm2inch(figsize_cm)\n",
    "figsize_inch"
   ]
  },
  {
   "cell_type": "code",
   "execution_count": 3,
   "metadata": {},
   "outputs": [],
   "source": [
    "file_names = [\n",
    "    \"INHIB_0.1__ifinhibhetero_false_dur1.0015e6msNblocks10Ntrain5lenstim300lenpause0Nreps20strength12wadaptfalseiSTDPtrueRateAdjust1.0Time2020-02-24-19-15-34repeatedsequences.h5\",\n",
    "]"
   ]
  },
  {
   "cell_type": "code",
   "execution_count": 4,
   "metadata": {},
   "outputs": [
    {
     "name": "stdout",
     "output_type": "stream",
     "text": [
      "[6.0000e+00 1.0012e+06 1.0015e+06 1.2000e+01]\n",
      "101800.0\n",
      "<KeysViewHDF5 ['assemblymembers', 'idxblockonset', 'inhibassemblies', 'lengthpretrain', 'seqnumber', 'stimparams', 'stimparams_prestim', 'stimulus', 'weights']>\n"
     ]
    },
    {
     "name": "stderr",
     "output_type": "stream",
     "text": [
      "/home/auguste/Software/anaconda3/lib/python3.7/site-packages/h5py/_hl/dataset.py:313: H5pyDeprecationWarning: dataset.value has been deprecated. Use dataset[()] instead.\n",
      "  \"Use dataset[()] instead.\", H5pyDeprecationWarning)\n"
     ]
    }
   ],
   "source": [
    "E_all  = []\n",
    "I_all = []\n",
    "Xweight_all = []\n",
    "ItoAweight_all = []\n",
    "timevector_all = []\n",
    "avgweightEmem_all = []\n",
    "avgweightImem_all = []\n",
    "avgweightEnov_all = []\n",
    "avgweightImem_all = []\n",
    "avgwindow = 4\n",
    "timestr = time.strftime(\"%Y-%m-%d-%H-%M-%S\")\n",
    "\n",
    "\n",
    "RUN_DIR = \"../data/\"\n",
    "RESULTS_DIR = \"../results/\"\n",
    "\n",
    "FILE_NAME_RUN = [RUN_DIR + file_name for file_name in file_names]\n",
    "#file_name_run = run_folder + file_name\n",
    "# open file\n",
    "frun = h5py.File(FILE_NAME_RUN[0], \"r\")\n",
    "\n",
    "FILE_NAME_RUN[-1]\n",
    "dict_dursimspikes_last  = frun[\"dursimspikes\"]\n",
    "dict_dursimspikes_keys = dict_dursimspikes_last.keys()\n",
    "dict_dursimspikes_keys;\n",
    "adjustfact  = frun[\"params\"]['adjustfactorinhib2'].value\n",
    "stimulus  = frun[\"initial\"]['stimulus'].value\n",
    "ptretrain  = frun[\"initial\"]['lengthpretrain'].value\n",
    "\n",
    "print(stimulus[:,-1])\n",
    "print(stimulus[2,ptretrain])\n",
    "dict_dursimspikes_last= frun[\"dursimspikes\"].keys()\n",
    "dict_dursimspikes_last;\n",
    "print(frun[\"initial\"].keys())"
   ]
  },
  {
   "cell_type": "code",
   "execution_count": 5,
   "metadata": {},
   "outputs": [
    {
     "data": {
      "text/plain": [
       "<KeysViewHDF5 ['Connectivity', 'MembraneDynamics', 'Ne', 'Ni', 'Normdt', 'STDPwadapt', 'T', 'Triplet', 'TripletTausAs', 'TripletTausAs_stim', 'adjustfactor', 'adjustfactor2', 'adjustfactorinhib', 'adjustfactorinhib2', 'bwfactor', 'dtsaveweights', 'eta_stim', 'iSTDP', 'minwstore', 'modwstore', 'stronginputs', 'voltageSTDP', 'weakfactor', 'weakfrac', 'weakidx']>"
      ]
     },
     "execution_count": 5,
     "metadata": {},
     "output_type": "execute_result"
    }
   ],
   "source": [
    "frun[\"params\"].keys()"
   ]
  },
  {
   "cell_type": "code",
   "execution_count": 6,
   "metadata": {
    "scrolled": true
   },
   "outputs": [
    {
     "name": "stdout",
     "output_type": "stream",
     "text": [
      "NON ADAPTIVE\n",
      "INHIB_0.1__ifinhibhetero_false_dur1.0015e6msNblocks10Ntrain5lenstim300lenpause0Nreps20strength12wadaptfalseiSTDPtrueRateAdjust1.0Time2020-02-24-19-15-34repeatedsequences.h5\n"
     ]
    },
    {
     "data": {
      "text/plain": [
       "0"
      ]
     },
     "execution_count": 6,
     "metadata": {},
     "output_type": "execute_result"
    }
   ],
   "source": [
    "for i,fn in enumerate(file_names):\n",
    "    E,I, ed, E_hist, E_hist_boxcar, FIG_DIR = analyse_mechanism(fn, avgwindow=avgwindow, timestr=timestr, RUN_DIR = RUN_DIR, RESULTS_DIR=RESULTS_DIR)\n",
    "    print(fn)\n",
    "    Xweight, ItoAweight, timevector_weights, avgweightEmem, avgweightImem, avgweightEnov, avgweightImem, It1, It2, InhibXweight, seqnumber, stimulus, colormain, idxblockonset= analyse_weights(fn, True, figsize=(10,5), RUN_DIR = RUN_DIR, RESULTS_DIR=RESULTS_DIR)\n",
    "    #run_single_neuron_eval_SSA(fn, binwidth = 50, avgwindow = avgwindow, timestr = timestr)\n",
    "\n",
    "    gc.collect()\n",
    "spiketimes = 0\n",
    "gc.collect()"
   ]
  },
  {
   "cell_type": "markdown",
   "metadata": {},
   "source": [
    "# Get onset times to calculate average"
   ]
  },
  {
   "cell_type": "code",
   "execution_count": 7,
   "metadata": {},
   "outputs": [],
   "source": [
    "Nseq = 5\n",
    "Nblocks = 10 \n",
    "cutfoff = 20\n",
    "Nimg = 3\n",
    "seq = 0\n",
    "\n",
    "onset_times = stimulus[1,idxblockonset]\n",
    "all_onsets = [] # list for each sequence individually\n",
    "for i in range(1,Nseq+1):\n",
    "    all_onsets.append(onset_times[seqnumber==i]/1000)\n",
    "blocklen = all_onsets[1][0]-all_onsets[0][0]\n",
    "time_weights = timevector_weights*60\n",
    "idx_1 = get_time_idx(time_weights, all_onsets[0]) # onset indices of seqeunce 1 \n",
    "idx_2= get_time_idx(time_weights, all_onsets[1]) # onset indices of seqeunce 2\n",
    "block_idx = idx_2[0]-idx_1[0] # number of timesteps per block"
   ]
  },
  {
   "cell_type": "code",
   "execution_count": 11,
   "metadata": {},
   "outputs": [
    {
     "name": "stdout",
     "output_type": "stream",
     "text": [
      "range(0, 3)\n",
      "(500,)\n",
      "range(3, 6)\n",
      "(500,)\n",
      "range(6, 9)\n",
      "(500,)\n",
      "range(9, 12)\n",
      "(500,)\n",
      "range(12, 15)\n",
      "(500,)\n"
     ]
    },
    {
     "data": {
      "image/png": "[encoded data removed]",
      "text/plain": [
       "<Figure size 566.929x283.465 with 16 Axes>"
      ]
     },
     "metadata": {
      "needs_background": "light"
     },
     "output_type": "display_data"
    },
    {
     "data": {
      "text/plain": [
       "<Figure size 432x288 with 0 Axes>"
      ]
     },
     "metadata": {},
     "output_type": "display_data"
    },
    {
     "data": {
      "text/plain": [
       "<Figure size 432x288 with 0 Axes>"
      ]
     },
     "metadata": {},
     "output_type": "display_data"
    },
    {
     "data": {
      "text/plain": [
       "<Figure size 432x288 with 0 Axes>"
      ]
     },
     "metadata": {},
     "output_type": "display_data"
    },
    {
     "data": {
      "text/plain": [
       "<Figure size 432x288 with 0 Axes>"
      ]
     },
     "metadata": {},
     "output_type": "display_data"
    },
    {
     "data": {
      "text/plain": [
       "<Figure size 432x288 with 0 Axes>"
      ]
     },
     "metadata": {},
     "output_type": "display_data"
    }
   ],
   "source": [
    "font = {'family' : 'normal',\n",
    "        'weight' : 'normal',\n",
    "        'size'   : 12}\n",
    "\n",
    "matplotlib.rc('font', **font)\n",
    "\n",
    "SMALL_SIZE = 10\n",
    "MEDIUM_SIZE = 10\n",
    "BIGGER_SIZE = 10\n",
    "\n",
    "plt.rc('font', size=SMALL_SIZE)          # controls default text sizes\n",
    "plt.rc('axes', titlesize=SMALL_SIZE)     # fontsize of the axes title\n",
    "plt.rc('axes', labelsize=MEDIUM_SIZE)    # fontsize of the x and y labels\n",
    "plt.rc('xtick', labelsize=SMALL_SIZE)    # fontsize of the tick labels\n",
    "plt.rc('ytick', labelsize=SMALL_SIZE)    # fontsize of the tick labels\n",
    "plt.rc('legend', fontsize=SMALL_SIZE)    # legend fontsize\n",
    "plt.rc('figure', titlesize=BIGGER_SIZE)  # fontsize of the figure title\n",
    "\n",
    "\n",
    "axiswidth=1\n",
    "def cm2inch(*tupl):\n",
    "    inch = 2.54\n",
    "    if isinstance(tupl[0], tuple):\n",
    "        return tuple(i/inch for i in tupl[0])\n",
    "    else:\n",
    "        return tuple(i/inch for i in tupl)\n",
    "    \n",
    "figsize_cm = (20,10)\n",
    "figsize_inch = cm2inch(figsize_cm)\n",
    "figsize_inch\n",
    "fig2 = plt.figure(constrained_layout=True, figsize=figsize_inch)\n",
    "gs = fig2.add_gridspec(2, 24, hspace=0.5)\n",
    "\n",
    "f2_ax1 = fig2.add_subplot(gs[1, 0:9])\n",
    "\n",
    "f2_ax2 = fig2.add_subplot(gs[0, 10:17])\n",
    "\n",
    "f2_ax3 = fig2.add_subplot(gs[1, 10:17], sharex=f2_ax2)\n",
    "\n",
    "f2_ax4 = fig2.add_subplot(gs[0, 17:], sharey=f2_ax2)\n",
    "\n",
    "f2_ax5 = fig2.add_subplot(gs[1, 17:], sharey=f2_ax3)\n",
    "\n",
    "plt.setp(f2_ax4.get_yticklabels(), visible=False)\n",
    "plt.setp(f2_ax5.get_yticklabels(), visible=False)\n",
    "plt.setp(f2_ax2.get_xticklabels(), visible=False)\n",
    "plt.setp(f2_ax4.get_xticklabels(), visible=False)\n",
    "\n",
    "for aa, ax in enumerate([f2_ax1,f2_ax2,f2_ax3,f2_ax4,f2_ax5]):\n",
    "    for axis in ['bottom', 'left']:\n",
    "            ax.spines[axis].set_linewidth(axiswidth)\n",
    "    for axis in ['top', 'right']:\n",
    "        ax.spines[axis].set_linewidth(0)\n",
    "    ax.xaxis.set_tick_params(width=axiswidth)\n",
    "    ax.yaxis.set_tick_params(width=axiswidth)\n",
    "    ax.locator_params(tight=True, nbins=5)\n",
    "\n",
    "# ===============================================0 begin plotting ===============================================\n",
    "\n",
    "color = [\"midnightblue\",\"lightskyblue\",\"royalblue\",\"darkred\",\"darksalmon\", \"saddlebrown\",\"darkgreen\",\"greenyellow\",\"darkolivegreen\",\"darkmagenta\",\"thistle\",\"indigo\",\"darkorange\",\"tan\",\"sienna\", \"black\", \"silver\",\"dimgrey\", \"fuchsia\", \"orchid\",\"plum\",  \"lightseagreen\", \"lightcyan\", \"darkslategray\",  \"goldenrod\",\"gold\", \"wheat\",\"forestgreen\", \"aquamarine\", \"palegreen\"]\n",
    "\n",
    "colormain = np.copy(color[0:-1:Nimg])\n",
    "ncol=3\n",
    "Nass=Nimg*Nseq\n",
    "startidx = []\n",
    "seqnum = Nseq + 1\n",
    "timevector = timevector_weights*60\n",
    "blocks=[1,4,7]\n",
    "\n",
    "for i in reversed(range(0,Nass)):\n",
    "    if i in startidx:#if i == startidx or i == startidx+Nimg or i == startidx+2*Nimg or i == startidx+3*Nimg or i == startidx+4*Nimg or i == startidx+5*Nimg or i == startidx+6*Nimg or i == startidx+7*Nimg or i == startidx+8*Nimg or i == startidx+9*Nimg or i == startidx+10*Nimg or i == startidx+11*Nimg or i == startidx+12*Nimg or i == startidx+13*Nimg or i == startidx+14*Nimg or i == startidx+15*Nimg:\n",
    "        seqnum -= 1\n",
    "        f2_ax1.plot(timevector, ItoAweight[i,:], label = \"assemblies seq. %d\" % (seqnum), color = color[i])#, ifcolor = True, lw = 1,fontsize = 20, xlabel = \"time [min]\", ylabel =\"winhib [pF]\", ifioff = True, ncol = ncol)\n",
    "    elif i < 3:#Nimg*Nseq:\n",
    "        f2_ax1.plot(timevector, ItoAweight[i,:], color = color[i])#, ifcolor = True, lw = 1,fontsize = 20, xlabel = \"time [min]\", ylabel =\"winhib [pF]\", ifioff = True)\n",
    "    elif i == Nimg*Nseq:\n",
    "        f2_ax1.plot(timevector, ItoAweight[i,:], label = \"other sequence assemblies\", color = \"lightgrey\")#,iflegend = True, color = \"lightgrey\", ifcolor = True, lw = 1,fontsize = 20, xlabel = \"time [min]\", ylabel =\"winhib [pF]\", ifioff = True, ncol = ncol)\n",
    "    else:\n",
    "        f2_ax1.plot(timevector, ItoAweight[i,:], color = \"lightgrey\")#, iflegend = False, color = \"lightgrey\", ifcolor = True, lw = 1,fontsize = 20, xlabel = \"time [min]\", ylabel =\"winhib [pF]\", ifioff = True, ncol = ncol)\n",
    "\n",
    "\n",
    "for bb, bl in enumerate(blocks):\n",
    "    f2_ax1.plot(timevector[idx_1[bl]], 80*np.ones_like(timevector[idx_1[bl]]), '.',color='midnightblue')  \n",
    "        \n",
    "#plt.legend(frameon=False)\n",
    "f2_ax1.set(xlabel = \"time [s]\", ylabel =\"inhib. assembly weights [pF]\")\n",
    "#plt.tight_layout()\n",
    "\n",
    "#============================================== weight zoom in ==============================================\n",
    "legend_label=['early', 'intermediate', 'late']\n",
    "blocks=[1]#,4,7]\n",
    "block_alpha=[1,0.6,0.4]\n",
    "\n",
    "\n",
    "for bb, bl in enumerate(blocks):\n",
    "    f2_ax2.plot(ed[2:-cutfoff], E_hist_boxcar[seq][bl][2:-cutfoff], color='midnightblue', label=legend_label[bb], alpha=block_alpha[bb])#plt.legend()\n",
    "#f2_ax2.legend(frameon=False)\n",
    "f2_ax2.set(ylabel =\"population avg. [Hz]\")\n",
    "bl=1\n",
    "for i in reversed(range(0,Nass)):\n",
    "    if i in startidx:#if i == startidx or i == startidx+Nimg or i == startidx+2*Nimg or i == startidx+3*Nimg or i == startidx+4*Nimg or i == startidx+5*Nimg or i == startidx+6*Nimg or i == startidx+7*Nimg or i == startidx+8*Nimg or i == startidx+9*Nimg or i == startidx+10*Nimg or i == startidx+11*Nimg or i == startidx+12*Nimg or i == startidx+13*Nimg or i == startidx+14*Nimg or i == startidx+15*Nimg:\n",
    "        seqnum -= 1\n",
    "        f2_ax3.plot(timevector[idx_1[bl]:(idx_1[bl]+block_idx)]-timevector[idx_1[bl]], ItoAweight[i,idx_1[bl]:(idx_1[bl]+block_idx)], label = \"assemblies seq. %d\" % (seqnum), color = color[i])#, ifcolor = True, lw = 1,fontsize = 20, xlabel = \"time [min]\", ylabel =\"winhib [pF]\", ifioff = True, ncol = ncol)\n",
    "    elif i < 3:#Nimg*Nseq:\n",
    "        f2_ax3.plot(timevector[idx_1[bl]:(idx_1[bl]+block_idx)]-timevector[idx_1[bl]], ItoAweight[i,idx_1[bl]:(idx_1[bl]+block_idx)], color = color[i])#, ifcolor = True, lw = 1,fontsize = 20, xlabel = \"time [min]\", ylabel =\"winhib [pF]\", ifioff = True)\n",
    "    elif i == Nimg*Nseq:\n",
    "        f2_ax3.plot(timevector[idx_1[bl]:(idx_1[bl]+block_idx)]-timevector[idx_1[bl]], ItoAweight[i,idx_1[bl]:(idx_1[bl]+block_idx)], label = \"other sequence assemblies\", color = \"lightgrey\")#,iflegend = True, color = \"lightgrey\", ifcolor = True, lw = 1,fontsize = 20, xlabel = \"time [min]\", ylabel =\"winhib [pF]\", ifioff = True, ncol = ncol)\n",
    "    else:\n",
    "        f2_ax3.plot(timevector[idx_1[bl]:(idx_1[bl]+block_idx)]-timevector[idx_1[bl]], ItoAweight[i,idx_1[bl]:(idx_1[bl]+block_idx)], color = \"lightgrey\")#, iflegend = False, color = \"lightgrey\", ifcolor = True, lw = 1,fontsize = 20, xlabel = \"time [min]\", ylabel =\"winhib [pF]\", ifioff = True, ncol = ncol)\n",
    "\n",
    "f2_ax3.set(xlabel = \"time locked to onset [s]\", ylabel =\"inhib. assembly weights [pF]\")\n",
    "\n",
    "\n",
    "# ============================================= second timescale ============================================\n",
    "blocks=[1,4,7]\n",
    "\n",
    "cutfoff = 20\n",
    "Nimg = 3\n",
    "Nseq = 5\n",
    "\n",
    "ItoSeqAvg = []\n",
    "for i in range(Nseq):\n",
    "    print(range(Nimg*i,Nimg*(i+1)))\n",
    "    ItoSeqAvg.append(np.mean(ItoAweight[range(Nimg*i,Nimg*(i+1)),:],axis=0))\n",
    "    print(np.mean(ItoAweight[range(Nimg*i,Nimg*(i+1)),:],axis=0).shape)\n",
    "    plt.figure()\n",
    "\n",
    "for bb, bl in enumerate(blocks):\n",
    "    f2_ax5.plot(timevector[idx_1[bl]:(idx_1[bl]+block_idx)]-timevector[idx_1[bl]], ItoSeqAvg[0][idx_1[bl]:(idx_1[bl]+block_idx)], color='midnightblue', label=legend_label[bb], alpha=block_alpha[bb])\n",
    "f2_ax5.set(xlabel = \"time locked to onset [s]\", ylabel =\"inhib. sequence weights [pF]\")\n",
    "\n",
    "for bb, bl in enumerate(blocks):\n",
    "    f2_ax4.plot(ed[2:-cutfoff], E_hist_boxcar[seq][bl][2:-cutfoff], color='midnightblue', label=legend_label[bb], alpha=block_alpha[bb])#plt.legend()\n",
    "f2_ax4.legend(frameon=False)\n",
    "save_fig(\"./figures/\", \"Figure_4_Mechanism\")"
   ]
  },
  {
   "cell_type": "code",
   "execution_count": null,
   "metadata": {},
   "outputs": [],
   "source": []
  }
 ],
 "metadata": {
  "kernelspec": {
   "display_name": "Python 3",
   "language": "python",
   "name": "python3"
  },
  "language_info": {
   "codemirror_mode": {
    "name": "ipython",
    "version": 3
   },
   "file_extension": ".py",
   "mimetype": "text/x-python",
   "name": "python",
   "nbconvert_exporter": "python",
   "pygments_lexer": "ipython3",
   "version": "3.7.3"
  }
 },
 "nbformat": 4,
 "nbformat_minor": 2
}
